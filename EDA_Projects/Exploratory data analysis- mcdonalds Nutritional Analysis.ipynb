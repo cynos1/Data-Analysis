{
 "cells": [
  {
   "cell_type": "code",
   "execution_count": 1,
   "id": "4ac9327d",
   "metadata": {},
   "outputs": [],
   "source": [
    "import pandas as pd\n",
    "import numpy as np"
   ]
  },
  {
   "cell_type": "code",
   "execution_count": 2,
   "id": "b19b143a",
   "metadata": {},
   "outputs": [
    {
     "data": {
      "text/html": [
       "<div>\n",
       "<style scoped>\n",
       "    .dataframe tbody tr th:only-of-type {\n",
       "        vertical-align: middle;\n",
       "    }\n",
       "\n",
       "    .dataframe tbody tr th {\n",
       "        vertical-align: top;\n",
       "    }\n",
       "\n",
       "    .dataframe thead th {\n",
       "        text-align: right;\n",
       "    }\n",
       "</style>\n",
       "<table border=\"1\" class=\"dataframe\">\n",
       "  <thead>\n",
       "    <tr style=\"text-align: right;\">\n",
       "      <th></th>\n",
       "      <th>Category</th>\n",
       "      <th>Item</th>\n",
       "      <th>Serving Size</th>\n",
       "      <th>Calories</th>\n",
       "      <th>Calories from Fat</th>\n",
       "      <th>Total Fat</th>\n",
       "      <th>Total Fat (% Daily Value)</th>\n",
       "      <th>Saturated Fat</th>\n",
       "      <th>Saturated Fat (% Daily Value)</th>\n",
       "      <th>Trans Fat</th>\n",
       "      <th>...</th>\n",
       "      <th>Carbohydrates</th>\n",
       "      <th>Carbohydrates (% Daily Value)</th>\n",
       "      <th>Dietary Fiber</th>\n",
       "      <th>Dietary Fiber (% Daily Value)</th>\n",
       "      <th>Sugars</th>\n",
       "      <th>Protein</th>\n",
       "      <th>Vitamin A (% Daily Value)</th>\n",
       "      <th>Vitamin C (% Daily Value)</th>\n",
       "      <th>Calcium (% Daily Value)</th>\n",
       "      <th>Iron (% Daily Value)</th>\n",
       "    </tr>\n",
       "  </thead>\n",
       "  <tbody>\n",
       "    <tr>\n",
       "      <th>0</th>\n",
       "      <td>Breakfast</td>\n",
       "      <td>Egg McMuffin</td>\n",
       "      <td>4.8 oz (136 g)</td>\n",
       "      <td>300</td>\n",
       "      <td>120</td>\n",
       "      <td>13.0</td>\n",
       "      <td>20</td>\n",
       "      <td>5.0</td>\n",
       "      <td>25</td>\n",
       "      <td>0.0</td>\n",
       "      <td>...</td>\n",
       "      <td>31</td>\n",
       "      <td>10</td>\n",
       "      <td>4</td>\n",
       "      <td>17</td>\n",
       "      <td>3</td>\n",
       "      <td>17</td>\n",
       "      <td>10</td>\n",
       "      <td>0</td>\n",
       "      <td>25</td>\n",
       "      <td>15</td>\n",
       "    </tr>\n",
       "    <tr>\n",
       "      <th>1</th>\n",
       "      <td>Breakfast</td>\n",
       "      <td>Egg White Delight</td>\n",
       "      <td>4.8 oz (135 g)</td>\n",
       "      <td>250</td>\n",
       "      <td>70</td>\n",
       "      <td>8.0</td>\n",
       "      <td>12</td>\n",
       "      <td>3.0</td>\n",
       "      <td>15</td>\n",
       "      <td>0.0</td>\n",
       "      <td>...</td>\n",
       "      <td>30</td>\n",
       "      <td>10</td>\n",
       "      <td>4</td>\n",
       "      <td>17</td>\n",
       "      <td>3</td>\n",
       "      <td>18</td>\n",
       "      <td>6</td>\n",
       "      <td>0</td>\n",
       "      <td>25</td>\n",
       "      <td>8</td>\n",
       "    </tr>\n",
       "    <tr>\n",
       "      <th>2</th>\n",
       "      <td>Breakfast</td>\n",
       "      <td>Sausage McMuffin</td>\n",
       "      <td>3.9 oz (111 g)</td>\n",
       "      <td>370</td>\n",
       "      <td>200</td>\n",
       "      <td>23.0</td>\n",
       "      <td>35</td>\n",
       "      <td>8.0</td>\n",
       "      <td>42</td>\n",
       "      <td>0.0</td>\n",
       "      <td>...</td>\n",
       "      <td>29</td>\n",
       "      <td>10</td>\n",
       "      <td>4</td>\n",
       "      <td>17</td>\n",
       "      <td>2</td>\n",
       "      <td>14</td>\n",
       "      <td>8</td>\n",
       "      <td>0</td>\n",
       "      <td>25</td>\n",
       "      <td>10</td>\n",
       "    </tr>\n",
       "    <tr>\n",
       "      <th>3</th>\n",
       "      <td>Breakfast</td>\n",
       "      <td>Sausage McMuffin with Egg</td>\n",
       "      <td>5.7 oz (161 g)</td>\n",
       "      <td>450</td>\n",
       "      <td>250</td>\n",
       "      <td>28.0</td>\n",
       "      <td>43</td>\n",
       "      <td>10.0</td>\n",
       "      <td>52</td>\n",
       "      <td>0.0</td>\n",
       "      <td>...</td>\n",
       "      <td>30</td>\n",
       "      <td>10</td>\n",
       "      <td>4</td>\n",
       "      <td>17</td>\n",
       "      <td>2</td>\n",
       "      <td>21</td>\n",
       "      <td>15</td>\n",
       "      <td>0</td>\n",
       "      <td>30</td>\n",
       "      <td>15</td>\n",
       "    </tr>\n",
       "    <tr>\n",
       "      <th>4</th>\n",
       "      <td>Breakfast</td>\n",
       "      <td>Sausage McMuffin with Egg Whites</td>\n",
       "      <td>5.7 oz (161 g)</td>\n",
       "      <td>400</td>\n",
       "      <td>210</td>\n",
       "      <td>23.0</td>\n",
       "      <td>35</td>\n",
       "      <td>8.0</td>\n",
       "      <td>42</td>\n",
       "      <td>0.0</td>\n",
       "      <td>...</td>\n",
       "      <td>30</td>\n",
       "      <td>10</td>\n",
       "      <td>4</td>\n",
       "      <td>17</td>\n",
       "      <td>2</td>\n",
       "      <td>21</td>\n",
       "      <td>6</td>\n",
       "      <td>0</td>\n",
       "      <td>25</td>\n",
       "      <td>10</td>\n",
       "    </tr>\n",
       "  </tbody>\n",
       "</table>\n",
       "<p>5 rows × 24 columns</p>\n",
       "</div>"
      ],
      "text/plain": [
       "    Category                              Item    Serving Size  Calories  \\\n",
       "0  Breakfast                      Egg McMuffin  4.8 oz (136 g)       300   \n",
       "1  Breakfast                 Egg White Delight  4.8 oz (135 g)       250   \n",
       "2  Breakfast                  Sausage McMuffin  3.9 oz (111 g)       370   \n",
       "3  Breakfast         Sausage McMuffin with Egg  5.7 oz (161 g)       450   \n",
       "4  Breakfast  Sausage McMuffin with Egg Whites  5.7 oz (161 g)       400   \n",
       "\n",
       "   Calories from Fat  Total Fat  Total Fat (% Daily Value)  Saturated Fat  \\\n",
       "0                120       13.0                         20            5.0   \n",
       "1                 70        8.0                         12            3.0   \n",
       "2                200       23.0                         35            8.0   \n",
       "3                250       28.0                         43           10.0   \n",
       "4                210       23.0                         35            8.0   \n",
       "\n",
       "   Saturated Fat (% Daily Value)  Trans Fat  ...  Carbohydrates  \\\n",
       "0                             25        0.0  ...             31   \n",
       "1                             15        0.0  ...             30   \n",
       "2                             42        0.0  ...             29   \n",
       "3                             52        0.0  ...             30   \n",
       "4                             42        0.0  ...             30   \n",
       "\n",
       "   Carbohydrates (% Daily Value)  Dietary Fiber  \\\n",
       "0                             10              4   \n",
       "1                             10              4   \n",
       "2                             10              4   \n",
       "3                             10              4   \n",
       "4                             10              4   \n",
       "\n",
       "   Dietary Fiber (% Daily Value)  Sugars  Protein  Vitamin A (% Daily Value)  \\\n",
       "0                             17       3       17                         10   \n",
       "1                             17       3       18                          6   \n",
       "2                             17       2       14                          8   \n",
       "3                             17       2       21                         15   \n",
       "4                             17       2       21                          6   \n",
       "\n",
       "   Vitamin C (% Daily Value)  Calcium (% Daily Value)  Iron (% Daily Value)  \n",
       "0                          0                       25                    15  \n",
       "1                          0                       25                     8  \n",
       "2                          0                       25                    10  \n",
       "3                          0                       30                    15  \n",
       "4                          0                       25                    10  \n",
       "\n",
       "[5 rows x 24 columns]"
      ]
     },
     "execution_count": 2,
     "metadata": {},
     "output_type": "execute_result"
    }
   ],
   "source": [
    "df = pd.read_csv('menu.csv')\n",
    "df.head()"
   ]
  },
  {
   "cell_type": "code",
   "execution_count": 3,
   "id": "1aa8d5c0",
   "metadata": {},
   "outputs": [
    {
     "data": {
      "text/plain": [
       "Coffee & Tea          95\n",
       "Breakfast             42\n",
       "Smoothies & Shakes    28\n",
       "Beverages             27\n",
       "Chicken & Fish        27\n",
       "Beef & Pork           15\n",
       "Snacks & Sides        13\n",
       "Desserts               7\n",
       "Salads                 6\n",
       "Name: Category, dtype: int64"
      ]
     },
     "execution_count": 3,
     "metadata": {},
     "output_type": "execute_result"
    }
   ],
   "source": [
    "df['Category'].value_counts()"
   ]
  },
  {
   "cell_type": "code",
   "execution_count": 4,
   "id": "be1e131e",
   "metadata": {},
   "outputs": [
    {
     "data": {
      "text/plain": [
       "42"
      ]
     },
     "execution_count": 4,
     "metadata": {},
     "output_type": "execute_result"
    }
   ],
   "source": [
    "df['Category'].value_counts()['Breakfast']"
   ]
  },
  {
   "cell_type": "code",
   "execution_count": 5,
   "id": "0cf02ad8",
   "metadata": {},
   "outputs": [
    {
     "name": "stdout",
     "output_type": "stream",
     "text": [
      "The data has 260 rows and 24 columns\n"
     ]
    }
   ],
   "source": [
    "# getting insights about the data\n",
    "print ('The data has {0} rows and {1} columns'.format(df.shape[0],df.shape[1]))"
   ]
  },
  {
   "cell_type": "code",
   "execution_count": 6,
   "id": "e51002a1",
   "metadata": {},
   "outputs": [
    {
     "data": {
      "text/html": [
       "<div>\n",
       "<style scoped>\n",
       "    .dataframe tbody tr th:only-of-type {\n",
       "        vertical-align: middle;\n",
       "    }\n",
       "\n",
       "    .dataframe tbody tr th {\n",
       "        vertical-align: top;\n",
       "    }\n",
       "\n",
       "    .dataframe thead th {\n",
       "        text-align: right;\n",
       "    }\n",
       "</style>\n",
       "<table border=\"1\" class=\"dataframe\">\n",
       "  <thead>\n",
       "    <tr style=\"text-align: right;\">\n",
       "      <th></th>\n",
       "      <th>Calories</th>\n",
       "      <th>Calories from Fat</th>\n",
       "      <th>Total Fat</th>\n",
       "      <th>Total Fat (% Daily Value)</th>\n",
       "      <th>Saturated Fat</th>\n",
       "      <th>Saturated Fat (% Daily Value)</th>\n",
       "      <th>Trans Fat</th>\n",
       "      <th>Cholesterol</th>\n",
       "      <th>Cholesterol (% Daily Value)</th>\n",
       "      <th>Sodium</th>\n",
       "      <th>...</th>\n",
       "      <th>Carbohydrates</th>\n",
       "      <th>Carbohydrates (% Daily Value)</th>\n",
       "      <th>Dietary Fiber</th>\n",
       "      <th>Dietary Fiber (% Daily Value)</th>\n",
       "      <th>Sugars</th>\n",
       "      <th>Protein</th>\n",
       "      <th>Vitamin A (% Daily Value)</th>\n",
       "      <th>Vitamin C (% Daily Value)</th>\n",
       "      <th>Calcium (% Daily Value)</th>\n",
       "      <th>Iron (% Daily Value)</th>\n",
       "    </tr>\n",
       "  </thead>\n",
       "  <tbody>\n",
       "    <tr>\n",
       "      <th>count</th>\n",
       "      <td>260.000000</td>\n",
       "      <td>260.000000</td>\n",
       "      <td>260.000000</td>\n",
       "      <td>260.000000</td>\n",
       "      <td>260.000000</td>\n",
       "      <td>260.000000</td>\n",
       "      <td>260.000000</td>\n",
       "      <td>260.000000</td>\n",
       "      <td>260.000000</td>\n",
       "      <td>260.000000</td>\n",
       "      <td>...</td>\n",
       "      <td>260.000000</td>\n",
       "      <td>260.000000</td>\n",
       "      <td>260.000000</td>\n",
       "      <td>260.000000</td>\n",
       "      <td>260.000000</td>\n",
       "      <td>260.000000</td>\n",
       "      <td>260.000000</td>\n",
       "      <td>260.000000</td>\n",
       "      <td>260.000000</td>\n",
       "      <td>260.000000</td>\n",
       "    </tr>\n",
       "    <tr>\n",
       "      <th>mean</th>\n",
       "      <td>368.269231</td>\n",
       "      <td>127.096154</td>\n",
       "      <td>14.165385</td>\n",
       "      <td>21.815385</td>\n",
       "      <td>6.007692</td>\n",
       "      <td>29.965385</td>\n",
       "      <td>0.203846</td>\n",
       "      <td>54.942308</td>\n",
       "      <td>18.392308</td>\n",
       "      <td>495.750000</td>\n",
       "      <td>...</td>\n",
       "      <td>47.346154</td>\n",
       "      <td>15.780769</td>\n",
       "      <td>1.630769</td>\n",
       "      <td>6.530769</td>\n",
       "      <td>29.423077</td>\n",
       "      <td>13.338462</td>\n",
       "      <td>13.426923</td>\n",
       "      <td>8.534615</td>\n",
       "      <td>20.973077</td>\n",
       "      <td>7.734615</td>\n",
       "    </tr>\n",
       "    <tr>\n",
       "      <th>std</th>\n",
       "      <td>240.269886</td>\n",
       "      <td>127.875914</td>\n",
       "      <td>14.205998</td>\n",
       "      <td>21.885199</td>\n",
       "      <td>5.321873</td>\n",
       "      <td>26.639209</td>\n",
       "      <td>0.429133</td>\n",
       "      <td>87.269257</td>\n",
       "      <td>29.091653</td>\n",
       "      <td>577.026323</td>\n",
       "      <td>...</td>\n",
       "      <td>28.252232</td>\n",
       "      <td>9.419544</td>\n",
       "      <td>1.567717</td>\n",
       "      <td>6.307057</td>\n",
       "      <td>28.679797</td>\n",
       "      <td>11.426146</td>\n",
       "      <td>24.366381</td>\n",
       "      <td>26.345542</td>\n",
       "      <td>17.019953</td>\n",
       "      <td>8.723263</td>\n",
       "    </tr>\n",
       "    <tr>\n",
       "      <th>min</th>\n",
       "      <td>0.000000</td>\n",
       "      <td>0.000000</td>\n",
       "      <td>0.000000</td>\n",
       "      <td>0.000000</td>\n",
       "      <td>0.000000</td>\n",
       "      <td>0.000000</td>\n",
       "      <td>0.000000</td>\n",
       "      <td>0.000000</td>\n",
       "      <td>0.000000</td>\n",
       "      <td>0.000000</td>\n",
       "      <td>...</td>\n",
       "      <td>0.000000</td>\n",
       "      <td>0.000000</td>\n",
       "      <td>0.000000</td>\n",
       "      <td>0.000000</td>\n",
       "      <td>0.000000</td>\n",
       "      <td>0.000000</td>\n",
       "      <td>0.000000</td>\n",
       "      <td>0.000000</td>\n",
       "      <td>0.000000</td>\n",
       "      <td>0.000000</td>\n",
       "    </tr>\n",
       "    <tr>\n",
       "      <th>25%</th>\n",
       "      <td>210.000000</td>\n",
       "      <td>20.000000</td>\n",
       "      <td>2.375000</td>\n",
       "      <td>3.750000</td>\n",
       "      <td>1.000000</td>\n",
       "      <td>4.750000</td>\n",
       "      <td>0.000000</td>\n",
       "      <td>5.000000</td>\n",
       "      <td>2.000000</td>\n",
       "      <td>107.500000</td>\n",
       "      <td>...</td>\n",
       "      <td>30.000000</td>\n",
       "      <td>10.000000</td>\n",
       "      <td>0.000000</td>\n",
       "      <td>0.000000</td>\n",
       "      <td>5.750000</td>\n",
       "      <td>4.000000</td>\n",
       "      <td>2.000000</td>\n",
       "      <td>0.000000</td>\n",
       "      <td>6.000000</td>\n",
       "      <td>0.000000</td>\n",
       "    </tr>\n",
       "    <tr>\n",
       "      <th>50%</th>\n",
       "      <td>340.000000</td>\n",
       "      <td>100.000000</td>\n",
       "      <td>11.000000</td>\n",
       "      <td>17.000000</td>\n",
       "      <td>5.000000</td>\n",
       "      <td>24.000000</td>\n",
       "      <td>0.000000</td>\n",
       "      <td>35.000000</td>\n",
       "      <td>11.000000</td>\n",
       "      <td>190.000000</td>\n",
       "      <td>...</td>\n",
       "      <td>44.000000</td>\n",
       "      <td>15.000000</td>\n",
       "      <td>1.000000</td>\n",
       "      <td>5.000000</td>\n",
       "      <td>17.500000</td>\n",
       "      <td>12.000000</td>\n",
       "      <td>8.000000</td>\n",
       "      <td>0.000000</td>\n",
       "      <td>20.000000</td>\n",
       "      <td>4.000000</td>\n",
       "    </tr>\n",
       "    <tr>\n",
       "      <th>75%</th>\n",
       "      <td>500.000000</td>\n",
       "      <td>200.000000</td>\n",
       "      <td>22.250000</td>\n",
       "      <td>35.000000</td>\n",
       "      <td>10.000000</td>\n",
       "      <td>48.000000</td>\n",
       "      <td>0.000000</td>\n",
       "      <td>65.000000</td>\n",
       "      <td>21.250000</td>\n",
       "      <td>865.000000</td>\n",
       "      <td>...</td>\n",
       "      <td>60.000000</td>\n",
       "      <td>20.000000</td>\n",
       "      <td>3.000000</td>\n",
       "      <td>10.000000</td>\n",
       "      <td>48.000000</td>\n",
       "      <td>19.000000</td>\n",
       "      <td>15.000000</td>\n",
       "      <td>4.000000</td>\n",
       "      <td>30.000000</td>\n",
       "      <td>15.000000</td>\n",
       "    </tr>\n",
       "    <tr>\n",
       "      <th>max</th>\n",
       "      <td>1880.000000</td>\n",
       "      <td>1060.000000</td>\n",
       "      <td>118.000000</td>\n",
       "      <td>182.000000</td>\n",
       "      <td>20.000000</td>\n",
       "      <td>102.000000</td>\n",
       "      <td>2.500000</td>\n",
       "      <td>575.000000</td>\n",
       "      <td>192.000000</td>\n",
       "      <td>3600.000000</td>\n",
       "      <td>...</td>\n",
       "      <td>141.000000</td>\n",
       "      <td>47.000000</td>\n",
       "      <td>7.000000</td>\n",
       "      <td>28.000000</td>\n",
       "      <td>128.000000</td>\n",
       "      <td>87.000000</td>\n",
       "      <td>170.000000</td>\n",
       "      <td>240.000000</td>\n",
       "      <td>70.000000</td>\n",
       "      <td>40.000000</td>\n",
       "    </tr>\n",
       "  </tbody>\n",
       "</table>\n",
       "<p>8 rows × 21 columns</p>\n",
       "</div>"
      ],
      "text/plain": [
       "          Calories  Calories from Fat   Total Fat  Total Fat (% Daily Value)  \\\n",
       "count   260.000000         260.000000  260.000000                 260.000000   \n",
       "mean    368.269231         127.096154   14.165385                  21.815385   \n",
       "std     240.269886         127.875914   14.205998                  21.885199   \n",
       "min       0.000000           0.000000    0.000000                   0.000000   \n",
       "25%     210.000000          20.000000    2.375000                   3.750000   \n",
       "50%     340.000000         100.000000   11.000000                  17.000000   \n",
       "75%     500.000000         200.000000   22.250000                  35.000000   \n",
       "max    1880.000000        1060.000000  118.000000                 182.000000   \n",
       "\n",
       "       Saturated Fat  Saturated Fat (% Daily Value)   Trans Fat  Cholesterol  \\\n",
       "count     260.000000                     260.000000  260.000000   260.000000   \n",
       "mean        6.007692                      29.965385    0.203846    54.942308   \n",
       "std         5.321873                      26.639209    0.429133    87.269257   \n",
       "min         0.000000                       0.000000    0.000000     0.000000   \n",
       "25%         1.000000                       4.750000    0.000000     5.000000   \n",
       "50%         5.000000                      24.000000    0.000000    35.000000   \n",
       "75%        10.000000                      48.000000    0.000000    65.000000   \n",
       "max        20.000000                     102.000000    2.500000   575.000000   \n",
       "\n",
       "       Cholesterol (% Daily Value)       Sodium  ...  Carbohydrates  \\\n",
       "count                   260.000000   260.000000  ...     260.000000   \n",
       "mean                     18.392308   495.750000  ...      47.346154   \n",
       "std                      29.091653   577.026323  ...      28.252232   \n",
       "min                       0.000000     0.000000  ...       0.000000   \n",
       "25%                       2.000000   107.500000  ...      30.000000   \n",
       "50%                      11.000000   190.000000  ...      44.000000   \n",
       "75%                      21.250000   865.000000  ...      60.000000   \n",
       "max                     192.000000  3600.000000  ...     141.000000   \n",
       "\n",
       "       Carbohydrates (% Daily Value)  Dietary Fiber  \\\n",
       "count                     260.000000     260.000000   \n",
       "mean                       15.780769       1.630769   \n",
       "std                         9.419544       1.567717   \n",
       "min                         0.000000       0.000000   \n",
       "25%                        10.000000       0.000000   \n",
       "50%                        15.000000       1.000000   \n",
       "75%                        20.000000       3.000000   \n",
       "max                        47.000000       7.000000   \n",
       "\n",
       "       Dietary Fiber (% Daily Value)      Sugars     Protein  \\\n",
       "count                     260.000000  260.000000  260.000000   \n",
       "mean                        6.530769   29.423077   13.338462   \n",
       "std                         6.307057   28.679797   11.426146   \n",
       "min                         0.000000    0.000000    0.000000   \n",
       "25%                         0.000000    5.750000    4.000000   \n",
       "50%                         5.000000   17.500000   12.000000   \n",
       "75%                        10.000000   48.000000   19.000000   \n",
       "max                        28.000000  128.000000   87.000000   \n",
       "\n",
       "       Vitamin A (% Daily Value)  Vitamin C (% Daily Value)  \\\n",
       "count                 260.000000                 260.000000   \n",
       "mean                   13.426923                   8.534615   \n",
       "std                    24.366381                  26.345542   \n",
       "min                     0.000000                   0.000000   \n",
       "25%                     2.000000                   0.000000   \n",
       "50%                     8.000000                   0.000000   \n",
       "75%                    15.000000                   4.000000   \n",
       "max                   170.000000                 240.000000   \n",
       "\n",
       "       Calcium (% Daily Value)  Iron (% Daily Value)  \n",
       "count               260.000000            260.000000  \n",
       "mean                 20.973077              7.734615  \n",
       "std                  17.019953              8.723263  \n",
       "min                   0.000000              0.000000  \n",
       "25%                   6.000000              0.000000  \n",
       "50%                  20.000000              4.000000  \n",
       "75%                  30.000000             15.000000  \n",
       "max                  70.000000             40.000000  \n",
       "\n",
       "[8 rows x 21 columns]"
      ]
     },
     "execution_count": 6,
     "metadata": {},
     "output_type": "execute_result"
    }
   ],
   "source": [
    "df.describe()"
   ]
  },
  {
   "cell_type": "code",
   "execution_count": 7,
   "id": "20cd7dab",
   "metadata": {},
   "outputs": [
    {
     "name": "stdout",
     "output_type": "stream",
     "text": [
      "<class 'pandas.core.frame.DataFrame'>\n",
      "RangeIndex: 260 entries, 0 to 259\n",
      "Data columns (total 24 columns):\n",
      " #   Column                         Non-Null Count  Dtype  \n",
      "---  ------                         --------------  -----  \n",
      " 0   Category                       260 non-null    object \n",
      " 1   Item                           260 non-null    object \n",
      " 2   Serving Size                   260 non-null    object \n",
      " 3   Calories                       260 non-null    int64  \n",
      " 4   Calories from Fat              260 non-null    int64  \n",
      " 5   Total Fat                      260 non-null    float64\n",
      " 6   Total Fat (% Daily Value)      260 non-null    int64  \n",
      " 7   Saturated Fat                  260 non-null    float64\n",
      " 8   Saturated Fat (% Daily Value)  260 non-null    int64  \n",
      " 9   Trans Fat                      260 non-null    float64\n",
      " 10  Cholesterol                    260 non-null    int64  \n",
      " 11  Cholesterol (% Daily Value)    260 non-null    int64  \n",
      " 12  Sodium                         260 non-null    int64  \n",
      " 13  Sodium (% Daily Value)         260 non-null    int64  \n",
      " 14  Carbohydrates                  260 non-null    int64  \n",
      " 15  Carbohydrates (% Daily Value)  260 non-null    int64  \n",
      " 16  Dietary Fiber                  260 non-null    int64  \n",
      " 17  Dietary Fiber (% Daily Value)  260 non-null    int64  \n",
      " 18  Sugars                         260 non-null    int64  \n",
      " 19  Protein                        260 non-null    int64  \n",
      " 20  Vitamin A (% Daily Value)      260 non-null    int64  \n",
      " 21  Vitamin C (% Daily Value)      260 non-null    int64  \n",
      " 22  Calcium (% Daily Value)        260 non-null    int64  \n",
      " 23  Iron (% Daily Value)           260 non-null    int64  \n",
      "dtypes: float64(3), int64(18), object(3)\n",
      "memory usage: 48.9+ KB\n"
     ]
    }
   ],
   "source": [
    "df.info()"
   ]
  },
  {
   "cell_type": "code",
   "execution_count": 8,
   "id": "4d87a3f7",
   "metadata": {},
   "outputs": [
    {
     "data": {
      "text/plain": [
       "Category                         0\n",
       "Item                             0\n",
       "Serving Size                     0\n",
       "Calories                         0\n",
       "Calories from Fat                0\n",
       "Total Fat                        0\n",
       "Total Fat (% Daily Value)        0\n",
       "Saturated Fat                    0\n",
       "Saturated Fat (% Daily Value)    0\n",
       "Trans Fat                        0\n",
       "Cholesterol                      0\n",
       "Cholesterol (% Daily Value)      0\n",
       "Sodium                           0\n",
       "Sodium (% Daily Value)           0\n",
       "Carbohydrates                    0\n",
       "Carbohydrates (% Daily Value)    0\n",
       "Dietary Fiber                    0\n",
       "Dietary Fiber (% Daily Value)    0\n",
       "Sugars                           0\n",
       "Protein                          0\n",
       "Vitamin A (% Daily Value)        0\n",
       "Vitamin C (% Daily Value)        0\n",
       "Calcium (% Daily Value)          0\n",
       "Iron (% Daily Value)             0\n",
       "dtype: int64"
      ]
     },
     "execution_count": 8,
     "metadata": {},
     "output_type": "execute_result"
    }
   ],
   "source": [
    "# the info value of '260 non-null' tells me that i have no missing data because the row is 260\n",
    "# i'll check for missing values anyway\n",
    "df.isnull().sum()"
   ]
  },
  {
   "cell_type": "code",
   "execution_count": 9,
   "id": "4bf93183",
   "metadata": {},
   "outputs": [],
   "source": [
    "# data visualization\n",
    "import seaborn as sns\n",
    "import matplotlib.pyplot as plt"
   ]
  },
  {
   "cell_type": "code",
   "execution_count": 10,
   "id": "af1aaee5",
   "metadata": {},
   "outputs": [
    {
     "data": {
      "text/plain": [
       "<AxesSubplot:xlabel='Calories', ylabel='Count'>"
      ]
     },
     "execution_count": 10,
     "metadata": {},
     "output_type": "execute_result"
    },
    {
     "data": {
      "image/png": "[encoded data removed]",
      "text/plain": [
       "<Figure size 432x288 with 1 Axes>"
      ]
     },
     "metadata": {
      "needs_background": "light"
     },
     "output_type": "display_data"
    }
   ],
   "source": [
    "sns.histplot(x = 'Calories', data = df)"
   ]
  },
  {
   "cell_type": "code",
   "execution_count": 11,
   "id": "70daa62f",
   "metadata": {},
   "outputs": [
    {
     "data": {
      "text/plain": [
       "<AxesSubplot:xlabel='Calories from Fat'>"
      ]
     },
     "execution_count": 11,
     "metadata": {},
     "output_type": "execute_result"
    },
    {
     "data": {
      "image/png": "[encoded data removed]",
      "text/plain": [
       "<Figure size 432x288 with 1 Axes>"
      ]
     },
     "metadata": {
      "needs_background": "light"
     },
     "output_type": "display_data"
    }
   ],
   "source": [
    "sns.boxplot(x = 'Calories from Fat', data = df)"
   ]
  },
  {
   "cell_type": "code",
   "execution_count": 12,
   "id": "93903fcb",
   "metadata": {},
   "outputs": [
    {
     "data": {
      "text/plain": [
       "<AxesSubplot:xlabel='Total Fat'>"
      ]
     },
     "execution_count": 12,
     "metadata": {},
     "output_type": "execute_result"
    },
    {
     "data": {
      "image/png": "[encoded data removed]",
      "text/plain": [
       "<Figure size 432x288 with 1 Axes>"
      ]
     },
     "metadata": {
      "needs_background": "light"
     },
     "output_type": "display_data"
    }
   ],
   "source": [
    "sns.boxplot(x = 'Total Fat', data = df)"
   ]
  },
  {
   "cell_type": "code",
   "execution_count": 13,
   "id": "e6d2d3ba",
   "metadata": {},
   "outputs": [
    {
     "data": {
      "text/plain": [
       "<AxesSubplot:xlabel='Sugars', ylabel='Count'>"
      ]
     },
     "execution_count": 13,
     "metadata": {},
     "output_type": "execute_result"
    },
    {
     "data": {
      "image/png": "[encoded data removed]",
      "text/plain": [
       "<Figure size 432x288 with 1 Axes>"
      ]
     },
     "metadata": {
      "needs_background": "light"
     },
     "output_type": "display_data"
    }
   ],
   "source": [
    "sns.histplot(x = 'Sugars', data = df)"
   ]
  },
  {
   "cell_type": "code",
   "execution_count": 14,
   "id": "95466232",
   "metadata": {},
   "outputs": [
    {
     "data": {
      "image/png": "[encoded data removed]",
      "text/plain": [
       "<Figure size 432x288 with 1 Axes>"
      ]
     },
     "metadata": {
      "needs_background": "light"
     },
     "output_type": "display_data"
    }
   ],
   "source": [
    "sns.boxplot(x = 'Calories', y = 'Category', data=df)\n",
    "plt.show()"
   ]
  },
  {
   "cell_type": "code",
   "execution_count": 15,
   "id": "1160a629",
   "metadata": {},
   "outputs": [
    {
     "data": {
      "image/png": "[encoded data removed]",
      "text/plain": [
       "<Figure size 432x288 with 1 Axes>"
      ]
     },
     "metadata": {
      "needs_background": "light"
     },
     "output_type": "display_data"
    }
   ],
   "source": [
    "sns.boxplot(x = 'Sugars', y = 'Category', data=df)\n",
    "plt.show()"
   ]
  },
  {
   "cell_type": "code",
   "execution_count": 16,
   "id": "ee2fc986",
   "metadata": {
    "scrolled": true
   },
   "outputs": [
    {
     "data": {
      "text/plain": [
       "<AxesSubplot:xlabel='Calories'>"
      ]
     },
     "execution_count": 16,
     "metadata": {},
     "output_type": "execute_result"
    },
    {
     "data": {
      "image/png": "[encoded data removed]",
      "text/plain": [
       "<Figure size 432x288 with 1 Axes>"
      ]
     },
     "metadata": {
      "needs_background": "light"
     },
     "output_type": "display_data"
    }
   ],
   "source": [
    "sns.boxplot(x = 'Calories', data = df)"
   ]
  },
  {
   "cell_type": "code",
   "execution_count": 17,
   "id": "2e14cef7",
   "metadata": {},
   "outputs": [],
   "source": [
    "# plot the top 5 food items with the highest calories\n",
    "# dropna() removes a row or column with N/A values\n",
    "calorie = df.groupby('Item')['Calories'].mean().dropna().nlargest(5)"
   ]
  },
  {
   "cell_type": "code",
   "execution_count": 18,
   "id": "76f02203",
   "metadata": {},
   "outputs": [
    {
     "data": {
      "image/png": "[encoded data removed]",
      "text/plain": [
       "<Figure size 432x288 with 1 Axes>"
      ]
     },
     "metadata": {
      "needs_background": "light"
     },
     "output_type": "display_data"
    }
   ],
   "source": [
    "calorie.sort_values().plot.bar(color = 'orange')\n",
    "plt.title(\"Top 5 food menus with the highest calories\")\n",
    "plt.ylabel('Calories')\n",
    "plt.xlabel('Food Items')\n",
    "# plt.xticks(rotation=45)\n",
    "plt.show()"
   ]
  },
  {
   "cell_type": "code",
   "execution_count": 19,
   "id": "6b68ee77",
   "metadata": {},
   "outputs": [
    {
     "data": {
      "text/plain": [
       "Text(0.5, 0, 'Food Items')"
      ]
     },
     "execution_count": 19,
     "metadata": {},
     "output_type": "execute_result"
    },
    {
     "data": {
      "image/png": "[encoded data removed]",
      "text/plain": [
       "<Figure size 432x288 with 1 Axes>"
      ]
     },
     "metadata": {
      "needs_background": "light"
     },
     "output_type": "display_data"
    }
   ],
   "source": [
    "# plot the top 20 food items with the lowest calories\n",
    "low_fat = df.groupby('Item')[\"Calories\"].mean().dropna().nsmallest(20)\n",
    "low_fat.sort_values().plot.bar(color = 'green')\n",
    "plt.title(\"Top 20 food menus with the lowest calories\")\n",
    "plt.ylabel('Calories')\n",
    "plt.xlabel('Food Items')"
   ]
  },
  {
   "cell_type": "code",
   "execution_count": 20,
   "id": "725e3082",
   "metadata": {},
   "outputs": [
    {
     "data": {
      "text/plain": [
       "Text(0.5, 0, 'Food Items')"
      ]
     },
     "execution_count": 20,
     "metadata": {},
     "output_type": "execute_result"
    },
    {
     "data": {
      "image/png": "[encoded data removed]",
      "text/plain": [
       "<Figure size 432x288 with 1 Axes>"
      ]
     },
     "metadata": {
      "needs_background": "light"
     },
     "output_type": "display_data"
    }
   ],
   "source": [
    "# plot the top 20 food items with the highest cholesterol\n",
    "cholesterol = df.groupby('Item')[\"Cholesterol\"].mean().dropna().nlargest(20)\n",
    "cholesterol.sort_values().plot.bar(color = 'green')\n",
    "plt.title(\"Top 20 food menus with the highest cholesterol\")\n",
    "plt.ylabel('Cholesterol')\n",
    "plt.xlabel('Food Items')"
   ]
  },
  {
   "cell_type": "code",
   "execution_count": 21,
   "id": "bdd54f9a",
   "metadata": {},
   "outputs": [
    {
     "data": {
      "text/plain": [
       "Item\n",
       "McFlurry with M&M’s Candies (Medium)                            20.0\n",
       "Big Breakfast with Hotcakes (Large Biscuit)                     20.0\n",
       "Chicken McNuggets (40 piece)                                    20.0\n",
       "Frappé Chocolate Chip (Large)                                   20.0\n",
       "Double Quarter Pounder with Cheese                              19.0\n",
       "Big Breakfast with Hotcakes (Regular Biscuit)                   19.0\n",
       "Big Breakfast (Large Biscuit)                                   18.0\n",
       "Frappé Mocha (Large)                                            17.0\n",
       "Frappé Chocolate Chip (Medium)                                  17.0\n",
       "Big Breakfast (Regular Biscuit)                                 17.0\n",
       "Frappé Caramel (Large)                                          17.0\n",
       "Big Breakfast with Hotcakes and Egg Whites (Regular Biscuit)    16.0\n",
       "Big Breakfast with Hotcakes and Egg Whites (Large Biscuit)      16.0\n",
       "Steak & Egg Biscuit (Regular Biscuit)                           16.0\n",
       "Strawberry Shake (Large)                                        15.0\n",
       "Sausage Biscuit with Egg (Large Biscuit)                        15.0\n",
       "Vanilla Shake (Large)                                           15.0\n",
       "Chocolate Shake (Large)                                         15.0\n",
       "Frappé Caramel (Medium)                                         15.0\n",
       "Shamrock Shake (Large)                                          15.0\n",
       "Name: Saturated Fat, dtype: float64"
      ]
     },
     "execution_count": 21,
     "metadata": {},
     "output_type": "execute_result"
    }
   ],
   "source": [
    "# find the top 20 food items with the saturated fat\n",
    "sat_fat = df.groupby('Item')[\"Saturated Fat\"].mean().sort_values(ascending= False)\n",
    "sat_fat.head(20)"
   ]
  },
  {
   "cell_type": "code",
   "execution_count": 24,
   "id": "4088ef42",
   "metadata": {},
   "outputs": [
    {
     "data": {
      "text/plain": [
       "Item\n",
       "Premium Bacon Ranch Salad with Crispy Chicken     6.0\n",
       "Premium Southwest Salad with Crispy Chicken       4.5\n",
       "Premium Bacon Ranch Salad with Grilled Chicken    4.0\n",
       "Premium Bacon Ranch Salad (without Chicken)       3.5\n",
       "Premium Southwest Salad with Grilled Chicken      2.5\n",
       "Premium Southwest Salad (without Chicken)         2.0\n",
       "Name: Saturated Fat, dtype: float64"
      ]
     },
     "execution_count": 24,
     "metadata": {},
     "output_type": "execute_result"
    }
   ],
   "source": [
    "# find food items in the Salad category with saturated fat\n",
    "salad = df[df.Category == 'Salads']\n",
    "salad.groupby('Item')[\"Saturated Fat\"].mean().sort_values(ascending= False)\n",
    "# salad.head(20)"
   ]
  },
  {
   "cell_type": "code",
   "execution_count": 27,
   "id": "df68e266",
   "metadata": {},
   "outputs": [
    {
     "data": {
      "text/plain": [
       "Item\n",
       "Kids Ice Cream Cone       45\n",
       "Oatmeal Raisin Cookie    150\n",
       "Name: Calories, dtype: int64"
      ]
     },
     "execution_count": 27,
     "metadata": {},
     "output_type": "execute_result"
    }
   ],
   "source": [
    "# find 2 food items in the Desert category with the lowest calories\n",
    "dessert = df[df.Category == 'Desserts']\n",
    "dessert.groupby('Item')[\"Calories\"].mean().sort_values(ascending = False).nsmallest(2)"
   ]
  },
  {
   "cell_type": "code",
   "execution_count": 28,
   "id": "d6936427",
   "metadata": {},
   "outputs": [
    {
     "data": {
      "text/plain": [
       "Coffee & Tea          95\n",
       "Breakfast             42\n",
       "Smoothies & Shakes    28\n",
       "Beverages             27\n",
       "Chicken & Fish        27\n",
       "Beef & Pork           15\n",
       "Snacks & Sides        13\n",
       "Desserts               7\n",
       "Salads                 6\n",
       "Name: Category, dtype: int64"
      ]
     },
     "execution_count": 28,
     "metadata": {},
     "output_type": "execute_result"
    }
   ],
   "source": [
    "df['Category'].value_counts()"
   ]
  },
  {
   "cell_type": "code",
   "execution_count": null,
   "id": "8811fe7c",
   "metadata": {},
   "outputs": [],
   "source": []
  }
 ],
 "metadata": {
  "kernelspec": {
   "display_name": "Python 3",
   "language": "python",
   "name": "python3"
  },
  "language_info": {
   "codemirror_mode": {
    "name": "ipython",
    "version": 3
   },
   "file_extension": ".py",
   "mimetype": "text/x-python",
   "name": "python",
   "nbconvert_exporter": "python",
   "pygments_lexer": "ipython3",
   "version": "3.8.8"
  }
 },
 "nbformat": 4,
 "nbformat_minor": 5
}
