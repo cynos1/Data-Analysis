{
 "cells": [
  {
   "cell_type": "code",
   "execution_count": null,
   "id": "caa0c247",
   "metadata": {},
   "outputs": [],
   "source": [
    "# Name: Cynthia Nosiri\n",
    "# Class: EEGR 565.M85 - Machine Learning Applications\n",
    "# Build a spam classifier by two methods, first through unsupervised learning (K-Means Clustering) and \n",
    "# then by multinomial Naïve Bayes.  \n",
    "# Google drive link: https://drive.google.com/drive/u/1/folders/1l9muVJQBVnnu4fbtM42EctmHOknhC0iE"
   ]
  },
  {
   "cell_type": "code",
   "execution_count": null,
   "id": "224ff562",
   "metadata": {},
   "outputs": [],
   "source": [
    "# Import the libraries\n",
    "import numpy as np\n",
    "import pandas as pd\n",
    "\n",
    "# read the csv file\n",
    "file = pd.read_csv('spam.csv', delimiter = ',')"
   ]
  },
  {
   "cell_type": "code",
   "execution_count": null,
   "id": "3e796805",
   "metadata": {
    "scrolled": false
   },
   "outputs": [],
   "source": [
    "# print the first five rows of the data\n",
    "first_five = file.head()\n",
    "print(first_five)"
   ]
  },
  {
   "cell_type": "code",
   "execution_count": null,
   "id": "423d3e94",
   "metadata": {},
   "outputs": [],
   "source": [
    "# remove unneeded columns\n",
    "file = file[['label', 'message']]\n",
    "file.head()\n"
   ]
  },
  {
   "cell_type": "code",
   "execution_count": null,
   "id": "507611a8",
   "metadata": {},
   "outputs": [],
   "source": [
    "# removing stopwords, make all lowercase\n",
    "import nltk\n",
    "from nltk.corpus import stopwords, names\n",
    "nltk.download(\"all\")\n",
    "\n",
    "stopwords = stopwords.words('english')\n",
    "file['message']  = file['message'].apply(lambda words: ' '.join(word.lower() for word in words.split() if word not in stopwords))\n",
    "print(file.head())\n"
   ]
  },
  {
   "cell_type": "code",
   "execution_count": null,
   "id": "ded764f0",
   "metadata": {
    "scrolled": true
   },
   "outputs": [],
   "source": [
    "# # # remove non-alphabetic tokens     \n",
    "\n",
    "def alphabets(element):\n",
    "    return element.isalpha()\n",
    "\n"
   ]
  },
  {
   "cell_type": "code",
   "execution_count": null,
   "id": "14fc9ecf",
   "metadata": {},
   "outputs": [],
   "source": [
    "# def lemmatized_text(doc):\n",
    "#     new_message = []\n",
    "#     for x in doc:\n",
    "#         new_message.append(\"  \".join(lemmatizer.lemmatize(y.lower() for y in x.split() if alphabets(y) and y.lower() not in names.words())))                    \n",
    "#     return new_message"
   ]
  },
  {
   "cell_type": "code",
   "execution_count": null,
   "id": "cf14d270",
   "metadata": {},
   "outputs": [],
   "source": [
    "# from nltk.stem import WordNetLemmatizer\n",
    "# lemmatizer = WordNetLemmatizer()\n",
    "# file['message'] = file['message'].apply(lambda x: '  '.join([lemmatizer.lemmatize(word.lower()) for word in x.split() if alphabets(word) and word not in names.words()]))\n"
   ]
  },
  {
   "cell_type": "code",
   "execution_count": null,
   "id": "9db819a1",
   "metadata": {},
   "outputs": [],
   "source": [
    "# print(file['message'])"
   ]
  },
  {
   "cell_type": "code",
   "execution_count": null,
   "id": "e023c126",
   "metadata": {
    "scrolled": true
   },
   "outputs": [],
   "source": [
    "# lemmatize and remove proper nouns\n",
    "from nltk.stem import WordNetLemmatizer\n",
    "\n",
    "lemmatizer = WordNetLemmatizer()\n",
    "\n",
    "new_message = []\n",
    "for x in file['message']:\n",
    "    new_message.append(\" \".join(lemmatizer.lemmatize(y.lower()) for y in x.split() if alphabets(y) and y not in names.words()))\n",
    "    \n",
    "\n"
   ]
  },
  {
   "cell_type": "code",
   "execution_count": null,
   "id": "a3c8fd24",
   "metadata": {},
   "outputs": [],
   "source": [
    "new_message\n",
    "\n"
   ]
  },
  {
   "cell_type": "code",
   "execution_count": null,
   "id": "3674e3af",
   "metadata": {},
   "outputs": [],
   "source": [
    "file['message'] = new_message\n",
    "file.head()"
   ]
  },
  {
   "cell_type": "code",
   "execution_count": null,
   "id": "1931897a",
   "metadata": {},
   "outputs": [],
   "source": [
    "# convert label to numerical variable\n",
    "file['label_id'] = file.label.map({'ham': 0, 'spam': 1})\n",
    "file.head()"
   ]
  },
  {
   "cell_type": "code",
   "execution_count": null,
   "id": "6058edb5",
   "metadata": {},
   "outputs": [],
   "source": [
    "# get my important columns. X contains features while Y contains targets\n",
    "X = file['message']\n",
    "Y = file['label_id']\n",
    "# print(X)\n",
    "# print(Y)"
   ]
  },
  {
   "cell_type": "code",
   "execution_count": null,
   "id": "24637efe",
   "metadata": {},
   "outputs": [],
   "source": [
    "from sklearn.model_selection import train_test_split\n",
    "\n",
    "# split dataset into training set and test set\n",
    "X_train, x_test, Y_train, y_test = train_test_split(X, Y, test_size = 0.3, random_state = 5)\n",
    "# print(X_train.shape)\n",
    "# print(x_test.shape)\n",
    "# print(Y_train.shape)\n",
    "# print(y_test.shape)"
   ]
  },
  {
   "cell_type": "code",
   "execution_count": null,
   "id": "610cd4c9",
   "metadata": {},
   "outputs": [],
   "source": [
    "# print(X_train.head())\n"
   ]
  },
  {
   "cell_type": "code",
   "execution_count": null,
   "id": "d26176de",
   "metadata": {},
   "outputs": [],
   "source": [
    "# text classification using tfidfvectorizer\n",
    "\n",
    "from sklearn.feature_extraction.text import TfidfVectorizer\n",
    "\n",
    "tfidf = TfidfVectorizer(analyzer = 'word', max_features=5000)\n",
    "\n",
    "# fit and transform the training features\n",
    "vec =  tfidf.fit_transform(X_train)\n",
    "\n",
    "# transform the test features\n",
    "vec_test = tfidf.transform(x_test)\n",
    "# print(vec)\n",
    "\n",
    "\n"
   ]
  },
  {
   "cell_type": "code",
   "execution_count": null,
   "id": "a4ddb313",
   "metadata": {},
   "outputs": [],
   "source": [
    "from sklearn.cluster import KMeans\n",
    "\n",
    "kmeans = KMeans(n_clusters = 2, random_state = 5)\n",
    "kmeans.fit(vec)\n",
    "predictions = kmeans.predict(vec_test)\n",
    "\n",
    "print('Accuracy: {}'.format((sum(predictions == y_test)/len(predictions))))"
   ]
  },
  {
   "cell_type": "code",
   "execution_count": null,
   "id": "2edde0b5",
   "metadata": {},
   "outputs": [],
   "source": [
    "# MultinomialNB Classifier model\n",
    "\n",
    "from sklearn.naive_bayes import MultinomialNB\n",
    "from sklearn.metrics import accuracy_score\n",
    "\n",
    "mnb = MultinomialNB()\n",
    "mnb.fit(vec, Y_train)\n",
    "\n",
    "predicted = mnb.predict(vec_test)\n",
    "\n",
    "score = accuracy_score(y_test, predicted)\n",
    "print('Accuracy Score: \\n', (100*score), '%')\n"
   ]
  },
  {
   "cell_type": "code",
   "execution_count": null,
   "id": "f58527f0",
   "metadata": {},
   "outputs": [],
   "source": [
    "# Display the top 25 tokens from both clusters"
   ]
  },
  {
   "cell_type": "code",
   "execution_count": null,
   "id": "07534315",
   "metadata": {},
   "outputs": [],
   "source": [
    "# convert vec to an array\n",
    "new_array = vec.toarray()\n",
    "print(new_array)"
   ]
  },
  {
   "cell_type": "code",
   "execution_count": null,
   "id": "f5a2b3a5",
   "metadata": {},
   "outputs": [],
   "source": [
    "# convert to a dataframe\n",
    "feature_names = tfidf.get_feature_names()\n",
    "df = pd.DataFrame(new_array, columns = feature_names)\n",
    "df.head()"
   ]
  },
  {
   "cell_type": "code",
   "execution_count": null,
   "id": "83924e40",
   "metadata": {},
   "outputs": [],
   "source": [
    "# create a new column of the labels\n",
    "df['label'] = file['label']\n",
    "df.head()"
   ]
  },
  {
   "cell_type": "code",
   "execution_count": null,
   "id": "0180d10d",
   "metadata": {},
   "outputs": [],
   "source": [
    "# group by 'ham' label\n",
    "df1= df[df['label'] == 'ham'] \n",
    "df1"
   ]
  },
  {
   "cell_type": "code",
   "execution_count": null,
   "id": "4dd51a72",
   "metadata": {},
   "outputs": [],
   "source": [
    "# remove the label column\n",
    "df1 = df1.drop(['label'], axis = 1)\n",
    "df1.head()"
   ]
  },
  {
   "cell_type": "code",
   "execution_count": null,
   "id": "85d66fe4",
   "metadata": {},
   "outputs": [],
   "source": [
    "#gives the max over the index axis\n",
    "ham = df1.max().reset_index()\n",
    "ham"
   ]
  },
  {
   "cell_type": "code",
   "execution_count": null,
   "id": "2ab9f08f",
   "metadata": {},
   "outputs": [],
   "source": [
    "# sort the 0 column from big to small and get the first 25 rows\n",
    "ham.sort_values(by = [0], ascending = False).head(25)"
   ]
  },
  {
   "cell_type": "code",
   "execution_count": null,
   "id": "e3deee3f",
   "metadata": {},
   "outputs": [],
   "source": [
    "\n",
    "df2= df[df['label'] == 'spam'] \n",
    "# df2"
   ]
  },
  {
   "cell_type": "code",
   "execution_count": null,
   "id": "4fbe9a47",
   "metadata": {},
   "outputs": [],
   "source": [
    "df2 = df2.drop(['label'], axis = 1)\n",
    "# df2"
   ]
  },
  {
   "cell_type": "code",
   "execution_count": null,
   "id": "25706000",
   "metadata": {},
   "outputs": [],
   "source": [
    "spam = df2.max().reset_index()"
   ]
  },
  {
   "cell_type": "code",
   "execution_count": null,
   "id": "d7a94d89",
   "metadata": {},
   "outputs": [],
   "source": [
    "spam.sort_values(by = [0], ascending = False).head(25)\n"
   ]
  },
  {
   "cell_type": "code",
   "execution_count": null,
   "id": "5edfa05f",
   "metadata": {},
   "outputs": [],
   "source": [
    "# use the wordcloud library to produce word clouds of the two \n",
    "# clusters."
   ]
  },
  {
   "cell_type": "code",
   "execution_count": null,
   "id": "a6ca714d",
   "metadata": {},
   "outputs": [],
   "source": [
    "#  group the label column by spam\n",
    "spm = file[file['label'] == 'spam'] \n",
    "spm"
   ]
  },
  {
   "cell_type": "code",
   "execution_count": null,
   "id": "2434b5dd",
   "metadata": {},
   "outputs": [],
   "source": [
    "#  group the label column by ham\n",
    "ham = file[file['label'] == 'ham'] \n",
    "ham"
   ]
  },
  {
   "cell_type": "code",
   "execution_count": null,
   "id": "d225f2a5",
   "metadata": {},
   "outputs": [],
   "source": [
    "# split each message identifying as ham into a list and append to the new_string\n",
    "new_string = []\n",
    "for i in ham['message']:\n",
    "    for a in i.split():\n",
    "        new_string.append(a)\n",
    "new_string"
   ]
  },
  {
   "cell_type": "code",
   "execution_count": null,
   "id": "30638122",
   "metadata": {},
   "outputs": [],
   "source": [
    "# Join all the words in new_string together as one string\n",
    "new_ham = \" \".join(x for x in new_string)\n",
    "new_ham"
   ]
  },
  {
   "cell_type": "code",
   "execution_count": null,
   "id": "be2fb026",
   "metadata": {},
   "outputs": [],
   "source": [
    "from wordcloud import WordCloud\n",
    "import matplotlib.pyplot as plt\n",
    "\n",
    "wordcloud = WordCloud().generate(new_ham)\n",
    "\n",
    "plt.imshow(wordcloud)\n",
    "plt.figure()"
   ]
  },
  {
   "cell_type": "code",
   "execution_count": null,
   "id": "fbeb1ccf",
   "metadata": {},
   "outputs": [],
   "source": [
    "new_string1 = []\n",
    "for i in spm['message']:\n",
    "    for a in i.split():\n",
    "        new_string1.append(a)"
   ]
  },
  {
   "cell_type": "code",
   "execution_count": null,
   "id": "f824b8c4",
   "metadata": {},
   "outputs": [],
   "source": [
    "# Joining all the words in new_string together as one\n",
    "new_spam = \" \".join(x for x in new_string1)"
   ]
  },
  {
   "cell_type": "code",
   "execution_count": null,
   "id": "1a52c6ef",
   "metadata": {},
   "outputs": [],
   "source": [
    "wordcloud = WordCloud().generate(new_spam)\n",
    "\n",
    "plt.imshow(wordcloud)\n",
    "plt.figure()"
   ]
  },
  {
   "cell_type": "code",
   "execution_count": null,
   "id": "f27932a7",
   "metadata": {},
   "outputs": [],
   "source": []
  }
 ],
 "metadata": {
  "kernelspec": {
   "display_name": "Python 3",
   "language": "python",
   "name": "python3"
  },
  "language_info": {
   "codemirror_mode": {
    "name": "ipython",
    "version": 3
   },
   "file_extension": ".py",
   "mimetype": "text/x-python",
   "name": "python",
   "nbconvert_exporter": "python",
   "pygments_lexer": "ipython3",
   "version": "3.8.8"
  }
 },
 "nbformat": 4,
 "nbformat_minor": 5
}
