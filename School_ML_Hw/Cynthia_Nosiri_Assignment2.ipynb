{
 "cells": [
  {
   "cell_type": "code",
   "execution_count": 1,
   "id": "caa0c247",
   "metadata": {},
   "outputs": [],
   "source": [
    "# Name: Cynthia Nosiri\n",
    "# Class: EEGR 565.M85 - Machine Learning Applications\n",
    "# Build a spam classifier by two methods, first through unsupervised learning (K-Means Clustering) and \n",
    "# then by multinomial Naïve Bayes.  \n",
    "# Google drive link: https://drive.google.com/drive/u/1/folders/1l9muVJQBVnnu4fbtM42EctmHOknhC0iE"
   ]
  },
  {
   "cell_type": "code",
   "execution_count": 2,
   "id": "224ff562",
   "metadata": {},
   "outputs": [
    {
     "ename": "FileNotFoundError",
     "evalue": "[Errno 2] No such file or directory: 'spam.csv'",
     "output_type": "error",
     "traceback": [
      "\u001b[0;31m---------------------------------------------------------------------------\u001b[0m",
      "\u001b[0;31mFileNotFoundError\u001b[0m                         Traceback (most recent call last)",
      "\u001b[0;32m<ipython-input-2-b84a454080b4>\u001b[0m in \u001b[0;36m<module>\u001b[0;34m\u001b[0m\n\u001b[1;32m      4\u001b[0m \u001b[0;34m\u001b[0m\u001b[0m\n\u001b[1;32m      5\u001b[0m \u001b[0;31m# read the csv file\u001b[0m\u001b[0;34m\u001b[0m\u001b[0;34m\u001b[0m\u001b[0;34m\u001b[0m\u001b[0m\n\u001b[0;32m----> 6\u001b[0;31m \u001b[0mfile\u001b[0m \u001b[0;34m=\u001b[0m \u001b[0mpd\u001b[0m\u001b[0;34m.\u001b[0m\u001b[0mread_csv\u001b[0m\u001b[0;34m(\u001b[0m\u001b[0;34m'spam.csv'\u001b[0m\u001b[0;34m,\u001b[0m \u001b[0mdelimiter\u001b[0m \u001b[0;34m=\u001b[0m \u001b[0;34m','\u001b[0m\u001b[0;34m)\u001b[0m\u001b[0;34m\u001b[0m\u001b[0;34m\u001b[0m\u001b[0m\n\u001b[0m",
      "\u001b[0;32m/opt/anaconda3/lib/python3.8/site-packages/pandas/io/parsers.py\u001b[0m in \u001b[0;36mread_csv\u001b[0;34m(filepath_or_buffer, sep, delimiter, header, names, index_col, usecols, squeeze, prefix, mangle_dupe_cols, dtype, engine, converters, true_values, false_values, skipinitialspace, skiprows, skipfooter, nrows, na_values, keep_default_na, na_filter, verbose, skip_blank_lines, parse_dates, infer_datetime_format, keep_date_col, date_parser, dayfirst, cache_dates, iterator, chunksize, compression, thousands, decimal, lineterminator, quotechar, quoting, doublequote, escapechar, comment, encoding, dialect, error_bad_lines, warn_bad_lines, delim_whitespace, low_memory, memory_map, float_precision, storage_options)\u001b[0m\n\u001b[1;32m    608\u001b[0m     \u001b[0mkwds\u001b[0m\u001b[0;34m.\u001b[0m\u001b[0mupdate\u001b[0m\u001b[0;34m(\u001b[0m\u001b[0mkwds_defaults\u001b[0m\u001b[0;34m)\u001b[0m\u001b[0;34m\u001b[0m\u001b[0;34m\u001b[0m\u001b[0m\n\u001b[1;32m    609\u001b[0m \u001b[0;34m\u001b[0m\u001b[0m\n\u001b[0;32m--> 610\u001b[0;31m     \u001b[0;32mreturn\u001b[0m \u001b[0m_read\u001b[0m\u001b[0;34m(\u001b[0m\u001b[0mfilepath_or_buffer\u001b[0m\u001b[0;34m,\u001b[0m \u001b[0mkwds\u001b[0m\u001b[0;34m)\u001b[0m\u001b[0;34m\u001b[0m\u001b[0;34m\u001b[0m\u001b[0m\n\u001b[0m\u001b[1;32m    611\u001b[0m \u001b[0;34m\u001b[0m\u001b[0m\n\u001b[1;32m    612\u001b[0m \u001b[0;34m\u001b[0m\u001b[0m\n",
      "\u001b[0;32m/opt/anaconda3/lib/python3.8/site-packages/pandas/io/parsers.py\u001b[0m in \u001b[0;36m_read\u001b[0;34m(filepath_or_buffer, kwds)\u001b[0m\n\u001b[1;32m    460\u001b[0m \u001b[0;34m\u001b[0m\u001b[0m\n\u001b[1;32m    461\u001b[0m     \u001b[0;31m# Create the parser.\u001b[0m\u001b[0;34m\u001b[0m\u001b[0;34m\u001b[0m\u001b[0;34m\u001b[0m\u001b[0m\n\u001b[0;32m--> 462\u001b[0;31m     \u001b[0mparser\u001b[0m \u001b[0;34m=\u001b[0m \u001b[0mTextFileReader\u001b[0m\u001b[0;34m(\u001b[0m\u001b[0mfilepath_or_buffer\u001b[0m\u001b[0;34m,\u001b[0m \u001b[0;34m**\u001b[0m\u001b[0mkwds\u001b[0m\u001b[0;34m)\u001b[0m\u001b[0;34m\u001b[0m\u001b[0;34m\u001b[0m\u001b[0m\n\u001b[0m\u001b[1;32m    463\u001b[0m \u001b[0;34m\u001b[0m\u001b[0m\n\u001b[1;32m    464\u001b[0m     \u001b[0;32mif\u001b[0m \u001b[0mchunksize\u001b[0m \u001b[0;32mor\u001b[0m \u001b[0miterator\u001b[0m\u001b[0;34m:\u001b[0m\u001b[0;34m\u001b[0m\u001b[0;34m\u001b[0m\u001b[0m\n",
      "\u001b[0;32m/opt/anaconda3/lib/python3.8/site-packages/pandas/io/parsers.py\u001b[0m in \u001b[0;36m__init__\u001b[0;34m(self, f, engine, **kwds)\u001b[0m\n\u001b[1;32m    817\u001b[0m             \u001b[0mself\u001b[0m\u001b[0;34m.\u001b[0m\u001b[0moptions\u001b[0m\u001b[0;34m[\u001b[0m\u001b[0;34m\"has_index_names\"\u001b[0m\u001b[0;34m]\u001b[0m \u001b[0;34m=\u001b[0m \u001b[0mkwds\u001b[0m\u001b[0;34m[\u001b[0m\u001b[0;34m\"has_index_names\"\u001b[0m\u001b[0;34m]\u001b[0m\u001b[0;34m\u001b[0m\u001b[0;34m\u001b[0m\u001b[0m\n\u001b[1;32m    818\u001b[0m \u001b[0;34m\u001b[0m\u001b[0m\n\u001b[0;32m--> 819\u001b[0;31m         \u001b[0mself\u001b[0m\u001b[0;34m.\u001b[0m\u001b[0m_engine\u001b[0m \u001b[0;34m=\u001b[0m \u001b[0mself\u001b[0m\u001b[0;34m.\u001b[0m\u001b[0m_make_engine\u001b[0m\u001b[0;34m(\u001b[0m\u001b[0mself\u001b[0m\u001b[0;34m.\u001b[0m\u001b[0mengine\u001b[0m\u001b[0;34m)\u001b[0m\u001b[0;34m\u001b[0m\u001b[0;34m\u001b[0m\u001b[0m\n\u001b[0m\u001b[1;32m    820\u001b[0m \u001b[0;34m\u001b[0m\u001b[0m\n\u001b[1;32m    821\u001b[0m     \u001b[0;32mdef\u001b[0m \u001b[0mclose\u001b[0m\u001b[0;34m(\u001b[0m\u001b[0mself\u001b[0m\u001b[0;34m)\u001b[0m\u001b[0;34m:\u001b[0m\u001b[0;34m\u001b[0m\u001b[0;34m\u001b[0m\u001b[0m\n",
      "\u001b[0;32m/opt/anaconda3/lib/python3.8/site-packages/pandas/io/parsers.py\u001b[0m in \u001b[0;36m_make_engine\u001b[0;34m(self, engine)\u001b[0m\n\u001b[1;32m   1048\u001b[0m             )\n\u001b[1;32m   1049\u001b[0m         \u001b[0;31m# error: Too many arguments for \"ParserBase\"\u001b[0m\u001b[0;34m\u001b[0m\u001b[0;34m\u001b[0m\u001b[0;34m\u001b[0m\u001b[0m\n\u001b[0;32m-> 1050\u001b[0;31m         \u001b[0;32mreturn\u001b[0m \u001b[0mmapping\u001b[0m\u001b[0;34m[\u001b[0m\u001b[0mengine\u001b[0m\u001b[0;34m]\u001b[0m\u001b[0;34m(\u001b[0m\u001b[0mself\u001b[0m\u001b[0;34m.\u001b[0m\u001b[0mf\u001b[0m\u001b[0;34m,\u001b[0m \u001b[0;34m**\u001b[0m\u001b[0mself\u001b[0m\u001b[0;34m.\u001b[0m\u001b[0moptions\u001b[0m\u001b[0;34m)\u001b[0m  \u001b[0;31m# type: ignore[call-arg]\u001b[0m\u001b[0;34m\u001b[0m\u001b[0;34m\u001b[0m\u001b[0m\n\u001b[0m\u001b[1;32m   1051\u001b[0m \u001b[0;34m\u001b[0m\u001b[0m\n\u001b[1;32m   1052\u001b[0m     \u001b[0;32mdef\u001b[0m \u001b[0m_failover_to_python\u001b[0m\u001b[0;34m(\u001b[0m\u001b[0mself\u001b[0m\u001b[0;34m)\u001b[0m\u001b[0;34m:\u001b[0m\u001b[0;34m\u001b[0m\u001b[0;34m\u001b[0m\u001b[0m\n",
      "\u001b[0;32m/opt/anaconda3/lib/python3.8/site-packages/pandas/io/parsers.py\u001b[0m in \u001b[0;36m__init__\u001b[0;34m(self, src, **kwds)\u001b[0m\n\u001b[1;32m   1865\u001b[0m \u001b[0;34m\u001b[0m\u001b[0m\n\u001b[1;32m   1866\u001b[0m         \u001b[0;31m# open handles\u001b[0m\u001b[0;34m\u001b[0m\u001b[0;34m\u001b[0m\u001b[0;34m\u001b[0m\u001b[0m\n\u001b[0;32m-> 1867\u001b[0;31m         \u001b[0mself\u001b[0m\u001b[0;34m.\u001b[0m\u001b[0m_open_handles\u001b[0m\u001b[0;34m(\u001b[0m\u001b[0msrc\u001b[0m\u001b[0;34m,\u001b[0m \u001b[0mkwds\u001b[0m\u001b[0;34m)\u001b[0m\u001b[0;34m\u001b[0m\u001b[0;34m\u001b[0m\u001b[0m\n\u001b[0m\u001b[1;32m   1868\u001b[0m         \u001b[0;32massert\u001b[0m \u001b[0mself\u001b[0m\u001b[0;34m.\u001b[0m\u001b[0mhandles\u001b[0m \u001b[0;32mis\u001b[0m \u001b[0;32mnot\u001b[0m \u001b[0;32mNone\u001b[0m\u001b[0;34m\u001b[0m\u001b[0;34m\u001b[0m\u001b[0m\n\u001b[1;32m   1869\u001b[0m         \u001b[0;32mfor\u001b[0m \u001b[0mkey\u001b[0m \u001b[0;32min\u001b[0m \u001b[0;34m(\u001b[0m\u001b[0;34m\"storage_options\"\u001b[0m\u001b[0;34m,\u001b[0m \u001b[0;34m\"encoding\"\u001b[0m\u001b[0;34m,\u001b[0m \u001b[0;34m\"memory_map\"\u001b[0m\u001b[0;34m,\u001b[0m \u001b[0;34m\"compression\"\u001b[0m\u001b[0;34m)\u001b[0m\u001b[0;34m:\u001b[0m\u001b[0;34m\u001b[0m\u001b[0;34m\u001b[0m\u001b[0m\n",
      "\u001b[0;32m/opt/anaconda3/lib/python3.8/site-packages/pandas/io/parsers.py\u001b[0m in \u001b[0;36m_open_handles\u001b[0;34m(self, src, kwds)\u001b[0m\n\u001b[1;32m   1360\u001b[0m         \u001b[0mLet\u001b[0m \u001b[0mthe\u001b[0m \u001b[0mreaders\u001b[0m \u001b[0mopen\u001b[0m \u001b[0mIOHanldes\u001b[0m \u001b[0mafter\u001b[0m \u001b[0mthey\u001b[0m \u001b[0mare\u001b[0m \u001b[0mdone\u001b[0m \u001b[0;32mwith\u001b[0m \u001b[0mtheir\u001b[0m \u001b[0mpotential\u001b[0m \u001b[0mraises\u001b[0m\u001b[0;34m.\u001b[0m\u001b[0;34m\u001b[0m\u001b[0;34m\u001b[0m\u001b[0m\n\u001b[1;32m   1361\u001b[0m         \"\"\"\n\u001b[0;32m-> 1362\u001b[0;31m         self.handles = get_handle(\n\u001b[0m\u001b[1;32m   1363\u001b[0m             \u001b[0msrc\u001b[0m\u001b[0;34m,\u001b[0m\u001b[0;34m\u001b[0m\u001b[0;34m\u001b[0m\u001b[0m\n\u001b[1;32m   1364\u001b[0m             \u001b[0;34m\"r\"\u001b[0m\u001b[0;34m,\u001b[0m\u001b[0;34m\u001b[0m\u001b[0;34m\u001b[0m\u001b[0m\n",
      "\u001b[0;32m/opt/anaconda3/lib/python3.8/site-packages/pandas/io/common.py\u001b[0m in \u001b[0;36mget_handle\u001b[0;34m(path_or_buf, mode, encoding, compression, memory_map, is_text, errors, storage_options)\u001b[0m\n\u001b[1;32m    640\u001b[0m                 \u001b[0merrors\u001b[0m \u001b[0;34m=\u001b[0m \u001b[0;34m\"replace\"\u001b[0m\u001b[0;34m\u001b[0m\u001b[0;34m\u001b[0m\u001b[0m\n\u001b[1;32m    641\u001b[0m             \u001b[0;31m# Encoding\u001b[0m\u001b[0;34m\u001b[0m\u001b[0;34m\u001b[0m\u001b[0;34m\u001b[0m\u001b[0m\n\u001b[0;32m--> 642\u001b[0;31m             handle = open(\n\u001b[0m\u001b[1;32m    643\u001b[0m                 \u001b[0mhandle\u001b[0m\u001b[0;34m,\u001b[0m\u001b[0;34m\u001b[0m\u001b[0;34m\u001b[0m\u001b[0m\n\u001b[1;32m    644\u001b[0m                 \u001b[0mioargs\u001b[0m\u001b[0;34m.\u001b[0m\u001b[0mmode\u001b[0m\u001b[0;34m,\u001b[0m\u001b[0;34m\u001b[0m\u001b[0;34m\u001b[0m\u001b[0m\n",
      "\u001b[0;31mFileNotFoundError\u001b[0m: [Errno 2] No such file or directory: 'spam.csv'"
     ]
    }
   ],
   "source": [
    "# Import the libraries\n",
    "import numpy as np\n",
    "import pandas as pd\n",
    "\n",
    "# read the csv file\n",
    "file = pd.read_csv('spam.csv', delimiter = ',')"
   ]
  },
  {
   "cell_type": "code",
   "execution_count": null,
   "id": "3e796805",
   "metadata": {
    "scrolled": false
   },
   "outputs": [],
   "source": [
    "# print the first five rows of the data\n",
    "first_five = file.head()\n",
    "print(first_five)"
   ]
  },
  {
   "cell_type": "code",
   "execution_count": null,
   "id": "423d3e94",
   "metadata": {},
   "outputs": [],
   "source": [
    "# remove unneeded columns\n",
    "file = file[['label', 'message']]\n",
    "file.head()\n"
   ]
  },
  {
   "cell_type": "code",
   "execution_count": null,
   "id": "507611a8",
   "metadata": {},
   "outputs": [],
   "source": [
    "# removing stopwords, make all lowercase\n",
    "import nltk\n",
    "from nltk.corpus import stopwords, names\n",
    "nltk.download(\"all\")\n",
    "\n",
    "stopwords = stopwords.words('english')\n",
    "file['message']  = file['message'].apply(lambda words: ' '.join(word.lower() for word in words.split() if word not in stopwords))\n",
    "print(file.head())\n"
   ]
  },
  {
   "cell_type": "code",
   "execution_count": null,
   "id": "ded764f0",
   "metadata": {
    "scrolled": true
   },
   "outputs": [],
   "source": [
    "# # # remove non-alphabetic tokens     \n",
    "\n",
    "def alphabets(element):\n",
    "    return element.isalpha()\n",
    "\n"
   ]
  },
  {
   "cell_type": "code",
   "execution_count": null,
   "id": "14fc9ecf",
   "metadata": {},
   "outputs": [],
   "source": [
    "# def lemmatized_text(doc):\n",
    "#     new_message = []\n",
    "#     for x in doc:\n",
    "#         new_message.append(\"  \".join(lemmatizer.lemmatize(y.lower() for y in x.split() if alphabets(y) and y.lower() not in names.words())))                    \n",
    "#     return new_message"
   ]
  },
  {
   "cell_type": "code",
   "execution_count": null,
   "id": "cf14d270",
   "metadata": {},
   "outputs": [],
   "source": [
    "# from nltk.stem import WordNetLemmatizer\n",
    "# lemmatizer = WordNetLemmatizer()\n",
    "# file['message'] = file['message'].apply(lambda x: '  '.join([lemmatizer.lemmatize(word.lower()) for word in x.split() if alphabets(word) and word not in names.words()]))\n"
   ]
  },
  {
   "cell_type": "code",
   "execution_count": null,
   "id": "9db819a1",
   "metadata": {},
   "outputs": [],
   "source": [
    "# print(file['message'])"
   ]
  },
  {
   "cell_type": "code",
   "execution_count": null,
   "id": "e023c126",
   "metadata": {
    "scrolled": true
   },
   "outputs": [],
   "source": [
    "# lemmatize and remove proper nouns\n",
    "from nltk.stem import WordNetLemmatizer\n",
    "\n",
    "lemmatizer = WordNetLemmatizer()\n",
    "\n",
    "new_message = []\n",
    "for x in file['message']:\n",
    "    new_message.append(\" \".join(lemmatizer.lemmatize(y.lower()) for y in x.split() if alphabets(y) and y not in names.words()))\n",
    "    \n",
    "\n"
   ]
  },
  {
   "cell_type": "code",
   "execution_count": null,
   "id": "a3c8fd24",
   "metadata": {},
   "outputs": [],
   "source": [
    "new_message\n",
    "\n"
   ]
  },
  {
   "cell_type": "code",
   "execution_count": null,
   "id": "3674e3af",
   "metadata": {},
   "outputs": [],
   "source": [
    "file['message'] = new_message\n",
    "file.head()"
   ]
  },
  {
   "cell_type": "code",
   "execution_count": null,
   "id": "1931897a",
   "metadata": {},
   "outputs": [],
   "source": [
    "# convert label to numerical variable\n",
    "file['label_id'] = file.label.map({'ham': 0, 'spam': 1})\n",
    "file.head()"
   ]
  },
  {
   "cell_type": "code",
   "execution_count": null,
   "id": "6058edb5",
   "metadata": {},
   "outputs": [],
   "source": [
    "# get my important columns. X contains features while Y contains targets\n",
    "X = file['message']\n",
    "Y = file['label_id']\n",
    "# print(X)\n",
    "# print(Y)"
   ]
  },
  {
   "cell_type": "code",
   "execution_count": null,
   "id": "24637efe",
   "metadata": {},
   "outputs": [],
   "source": [
    "from sklearn.model_selection import train_test_split\n",
    "\n",
    "# split dataset into training set and test set\n",
    "X_train, x_test, Y_train, y_test = train_test_split(X, Y, test_size = 0.3, random_state = 5)\n",
    "# print(X_train.shape)\n",
    "# print(x_test.shape)\n",
    "# print(Y_train.shape)\n",
    "# print(y_test.shape)"
   ]
  },
  {
   "cell_type": "code",
   "execution_count": null,
   "id": "610cd4c9",
   "metadata": {},
   "outputs": [],
   "source": [
    "# print(X_train.head())\n"
   ]
  },
  {
   "cell_type": "code",
   "execution_count": null,
   "id": "d26176de",
   "metadata": {},
   "outputs": [],
   "source": [
    "# text classification using tfidfvectorizer\n",
    "\n",
    "from sklearn.feature_extraction.text import TfidfVectorizer\n",
    "\n",
    "tfidf = TfidfVectorizer(analyzer = 'word', max_features=5000)\n",
    "\n",
    "# fit and transform the training features\n",
    "vec =  tfidf.fit_transform(X_train)\n",
    "\n",
    "# transform the test features\n",
    "vec_test = tfidf.transform(x_test)\n",
    "# print(vec)\n",
    "\n",
    "\n"
   ]
  },
  {
   "cell_type": "code",
   "execution_count": null,
   "id": "a4ddb313",
   "metadata": {},
   "outputs": [],
   "source": [
    "from sklearn.cluster import KMeans\n",
    "\n",
    "kmeans = KMeans(n_clusters = 2, random_state = 5)\n",
    "kmeans.fit(vec)\n",
    "predictions = kmeans.predict(vec_test)\n",
    "\n",
    "print('Accuracy: {}'.format((sum(predictions == y_test)/len(predictions))))"
   ]
  },
  {
   "cell_type": "code",
   "execution_count": null,
   "id": "2edde0b5",
   "metadata": {},
   "outputs": [],
   "source": [
    "# MultinomialNB Classifier model\n",
    "\n",
    "from sklearn.naive_bayes import MultinomialNB\n",
    "from sklearn.metrics import accuracy_score\n",
    "\n",
    "mnb = MultinomialNB()\n",
    "mnb.fit(vec, Y_train)\n",
    "\n",
    "predicted = mnb.predict(vec_test)\n",
    "\n",
    "score = accuracy_score(y_test, predicted)\n",
    "print('Accuracy Score: \\n', (100*score), '%')\n"
   ]
  },
  {
   "cell_type": "code",
   "execution_count": null,
   "id": "f58527f0",
   "metadata": {},
   "outputs": [],
   "source": [
    "# Display the top 25 tokens from both clusters"
   ]
  },
  {
   "cell_type": "code",
   "execution_count": null,
   "id": "07534315",
   "metadata": {},
   "outputs": [],
   "source": [
    "# convert vec to an array\n",
    "new_array = vec.toarray()\n",
    "print(new_array)"
   ]
  },
  {
   "cell_type": "code",
   "execution_count": null,
   "id": "f5a2b3a5",
   "metadata": {},
   "outputs": [],
   "source": [
    "# convert to a dataframe\n",
    "feature_names = tfidf.get_feature_names()\n",
    "df = pd.DataFrame(new_array, columns = feature_names)\n",
    "df.head()"
   ]
  },
  {
   "cell_type": "code",
   "execution_count": null,
   "id": "83924e40",
   "metadata": {},
   "outputs": [],
   "source": [
    "# create a new column of the labels\n",
    "df['label'] = file['label']\n",
    "df.head()"
   ]
  },
  {
   "cell_type": "code",
   "execution_count": null,
   "id": "0180d10d",
   "metadata": {},
   "outputs": [],
   "source": [
    "# group by 'ham' label\n",
    "df1= df[df['label'] == 'ham'] \n",
    "df1"
   ]
  },
  {
   "cell_type": "code",
   "execution_count": null,
   "id": "4dd51a72",
   "metadata": {},
   "outputs": [],
   "source": [
    "# remove the label column\n",
    "df1 = df1.drop(['label'], axis = 1)\n",
    "df1.head()"
   ]
  },
  {
   "cell_type": "code",
   "execution_count": null,
   "id": "85d66fe4",
   "metadata": {},
   "outputs": [],
   "source": [
    "#gives the max over the index axis\n",
    "ham = df1.max().reset_index()\n",
    "ham"
   ]
  },
  {
   "cell_type": "code",
   "execution_count": null,
   "id": "2ab9f08f",
   "metadata": {},
   "outputs": [],
   "source": [
    "# sort the 0 column from big to small and get the first 25 rows\n",
    "ham.sort_values(by = [0], ascending = False).head(25)"
   ]
  },
  {
   "cell_type": "code",
   "execution_count": null,
   "id": "e3deee3f",
   "metadata": {},
   "outputs": [],
   "source": [
    "\n",
    "df2= df[df['label'] == 'spam'] \n",
    "# df2"
   ]
  },
  {
   "cell_type": "code",
   "execution_count": null,
   "id": "4fbe9a47",
   "metadata": {},
   "outputs": [],
   "source": [
    "df2 = df2.drop(['label'], axis = 1)\n",
    "# df2"
   ]
  },
  {
   "cell_type": "code",
   "execution_count": null,
   "id": "25706000",
   "metadata": {},
   "outputs": [],
   "source": [
    "spam = df2.max().reset_index()"
   ]
  },
  {
   "cell_type": "code",
   "execution_count": null,
   "id": "d7a94d89",
   "metadata": {},
   "outputs": [],
   "source": [
    "spam.sort_values(by = [0], ascending = False).head(25)\n"
   ]
  },
  {
   "cell_type": "code",
   "execution_count": null,
   "id": "5edfa05f",
   "metadata": {},
   "outputs": [],
   "source": [
    "# use the wordcloud library to produce word clouds of the two \n",
    "# clusters."
   ]
  },
  {
   "cell_type": "code",
   "execution_count": null,
   "id": "a6ca714d",
   "metadata": {},
   "outputs": [],
   "source": [
    "#  group the label column by spam\n",
    "spm = file[file['label'] == 'spam'] \n",
    "spm"
   ]
  },
  {
   "cell_type": "code",
   "execution_count": null,
   "id": "2434b5dd",
   "metadata": {},
   "outputs": [],
   "source": [
    "#  group the label column by ham\n",
    "ham = file[file['label'] == 'ham'] \n",
    "ham"
   ]
  },
  {
   "cell_type": "code",
   "execution_count": null,
   "id": "d225f2a5",
   "metadata": {},
   "outputs": [],
   "source": [
    "# split each message identifying as ham into a list and append to the new_string\n",
    "new_string = []\n",
    "for i in ham['message']:\n",
    "    for a in i.split():\n",
    "        new_string.append(a)\n",
    "new_string"
   ]
  },
  {
   "cell_type": "code",
   "execution_count": null,
   "id": "30638122",
   "metadata": {},
   "outputs": [],
   "source": [
    "# Join all the words in new_string together as one string\n",
    "new_ham = \" \".join(x for x in new_string)\n",
    "new_ham"
   ]
  },
  {
   "cell_type": "code",
   "execution_count": null,
   "id": "be2fb026",
   "metadata": {},
   "outputs": [],
   "source": [
    "from wordcloud import WordCloud\n",
    "import matplotlib.pyplot as plt\n",
    "\n",
    "wordcloud = WordCloud().generate(new_ham)\n",
    "\n",
    "plt.imshow(wordcloud)\n",
    "plt.figure()"
   ]
  },
  {
   "cell_type": "code",
   "execution_count": null,
   "id": "fbeb1ccf",
   "metadata": {},
   "outputs": [],
   "source": [
    "new_string1 = []\n",
    "for i in spm['message']:\n",
    "    for a in i.split():\n",
    "        new_string1.append(a)"
   ]
  },
  {
   "cell_type": "code",
   "execution_count": null,
   "id": "f824b8c4",
   "metadata": {},
   "outputs": [],
   "source": [
    "# Joining all the words in new_string together as one\n",
    "new_spam = \" \".join(x for x in new_string1)"
   ]
  },
  {
   "cell_type": "code",
   "execution_count": null,
   "id": "1a52c6ef",
   "metadata": {},
   "outputs": [],
   "source": [
    "wordcloud = WordCloud().generate(new_spam)\n",
    "\n",
    "plt.imshow(wordcloud)\n",
    "plt.figure()"
   ]
  },
  {
   "cell_type": "code",
   "execution_count": null,
   "id": "f27932a7",
   "metadata": {},
   "outputs": [],
   "source": []
  }
 ],
 "metadata": {
  "kernelspec": {
   "display_name": "Python 3",
   "language": "python",
   "name": "python3"
  },
  "language_info": {
   "codemirror_mode": {
    "name": "ipython",
    "version": 3
   },
   "file_extension": ".py",
   "mimetype": "text/x-python",
   "name": "python",
   "nbconvert_exporter": "python",
   "pygments_lexer": "ipython3",
   "version": "3.8.8"
  }
 },
 "nbformat": 4,
 "nbformat_minor": 5
}
